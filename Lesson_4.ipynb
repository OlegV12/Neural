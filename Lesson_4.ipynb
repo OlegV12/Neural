{
  "cells": [
    {
      "cell_type": "markdown",
      "metadata": {
        "id": "view-in-github",
        "colab_type": "text"
      },
      "source": [
        "<a href=\"https://colab.research.google.com/github/OlegV12/Neural/blob/Lesson_4/Lesson_4.ipynb\" target=\"_parent\"><img src=\"https://colab.research.google.com/assets/colab-badge.svg\" alt=\"Open In Colab\"/></a>"
      ]
    },
    {
      "cell_type": "markdown",
      "metadata": {
        "id": "PHqn01Vpm5-c"
      },
      "source": [
        "## Практическое задание\n",
        "\n",
        "Вариант 1. (простой)\n",
        "\n",
        "- обучить сверточную нейронную сеть в стиле AlexNet (с падением размера ядра свертки и последовательностью блоков свертка-пулинг  (conv-pool)-(conv-pool)-...) на датасете fashion-mnist или cifar10\n",
        "- оценить рост точности при увеличении ширины сети (больше ядер)\n",
        "- оценить рост точности при увеличении глубины сети (больше слоев)\n",
        "- (опциционально)сравнить с точностью полносвязной сети для этой выборки\n",
        "    </li>\n",
        "\n",
        "Вариант 2. (сложный)\n",
        "- реализовать нейронную сеть или стек из сверток (Concatenate) на сifar10.\n",
        "- оценить рост точности при увеличении ширины сети (больше ядер), больше нитей.\n",
        "- оценить рост точности при увеличении глубины сети (больше слоев)\n",
        "    </li>\n",
        "</ol>"
      ]
    },
    {
      "cell_type": "code",
      "execution_count": 1,
      "metadata": {
        "id": "Um1SARWsPFts"
      },
      "outputs": [],
      "source": [
        "from tensorflow.keras.datasets import fashion_mnist\n",
        "from tensorflow.keras.models import Sequential\n",
        "from tensorflow.keras import models, layers\n",
        "import tensorflow as tf\n",
        "import tensorflow.keras as keras\n",
        "from tensorflow.keras.utils import to_categorical"
      ]
    },
    {
      "cell_type": "code",
      "execution_count": 2,
      "metadata": {
        "id": "SNbadF6IOm_l"
      },
      "outputs": [],
      "source": [
        "(x_train, y_train), (x_test, y_test) = fashion_mnist.load_data()\n",
        "x_train = x_train.astype('float32')\n",
        "x_test = x_test.astype('float32')\n",
        "\n",
        "# нормализация данных [0, 1]\n",
        "x_train /= 255 \n",
        "x_test /= 255 \n",
        "\n",
        "# трансформация лейблов в one-hot encoding\n",
        "y_train = to_categorical(y_train, 10) \n",
        "y_test = to_categorical(y_test, 10) \n",
        "\n",
        "# изменение размерности массива в 4D массив\n",
        "x_train = x_train.reshape(x_train.shape[0], 28,28,1)\n",
        "x_test = x_test.reshape(x_test.shape[0], 28,28,1)"
      ]
    },
    {
      "cell_type": "code",
      "execution_count": 3,
      "metadata": {
        "colab": {
          "base_uri": "https://localhost:8080/"
        },
        "id": "BhxSkTtZQ7UK",
        "outputId": "de0d9a94-a9e4-4b7b-f115-73da89af8936"
      },
      "outputs": [
        {
          "output_type": "execute_result",
          "data": {
            "text/plain": [
              "(60000, 28, 28, 1)"
            ]
          },
          "metadata": {},
          "execution_count": 3
        }
      ],
      "source": [
        "x_train.shape"
      ]
    },
    {
      "cell_type": "code",
      "execution_count": 4,
      "metadata": {
        "id": "cz1qdkvqPlc5"
      },
      "outputs": [],
      "source": [
        "model = Sequential()\n",
        "model.add(layers.Input(shape=(28,28,1)))\n",
        "model.add(layers.Conv2D(6, kernel_size=(5, 5),  padding='same', activation='tanh',))\n",
        "model.add(layers.MaxPooling2D(pool_size=(2, 2), strides=(1, 1), padding='valid'))\n",
        "model.add(layers.Conv2D(16, kernel_size=(5, 5), padding='same', activation='tanh',))\n",
        "model.add(layers.MaxPooling2D(pool_size=(2, 2), strides=(2, 2), padding='valid'))\n",
        "model.add(layers.Flatten())\n",
        "model.add(layers.Dense(84, activation='tanh'))\n",
        "model.add(layers.Dense(10, activation='softmax'))"
      ]
    },
    {
      "cell_type": "code",
      "execution_count": 5,
      "metadata": {
        "colab": {
          "base_uri": "https://localhost:8080/"
        },
        "id": "X3HqTiutSQpN",
        "outputId": "6251d58a-a3f1-414d-cb7a-0f6d8360d84c"
      },
      "outputs": [
        {
          "output_type": "stream",
          "name": "stdout",
          "text": [
            "Model: \"sequential\"\n",
            "_________________________________________________________________\n",
            " Layer (type)                Output Shape              Param #   \n",
            "=================================================================\n",
            " conv2d (Conv2D)             (None, 28, 28, 6)         156       \n",
            "                                                                 \n",
            " max_pooling2d (MaxPooling2D  (None, 27, 27, 6)        0         \n",
            " )                                                               \n",
            "                                                                 \n",
            " conv2d_1 (Conv2D)           (None, 27, 27, 16)        2416      \n",
            "                                                                 \n",
            " max_pooling2d_1 (MaxPooling  (None, 13, 13, 16)       0         \n",
            " 2D)                                                             \n",
            "                                                                 \n",
            " flatten (Flatten)           (None, 2704)              0         \n",
            "                                                                 \n",
            " dense (Dense)               (None, 84)                227220    \n",
            "                                                                 \n",
            " dense_1 (Dense)             (None, 10)                850       \n",
            "                                                                 \n",
            "=================================================================\n",
            "Total params: 230,642\n",
            "Trainable params: 230,642\n",
            "Non-trainable params: 0\n",
            "_________________________________________________________________\n"
          ]
        }
      ],
      "source": [
        "model.summary()"
      ]
    },
    {
      "cell_type": "code",
      "execution_count": 6,
      "metadata": {
        "id": "-Bc632rMSrWy"
      },
      "outputs": [],
      "source": [
        "model.compile(loss=keras.losses.categorical_crossentropy, optimizer='SGD', metrics=[\"accuracy\"])"
      ]
    },
    {
      "cell_type": "code",
      "execution_count": 7,
      "metadata": {
        "colab": {
          "base_uri": "https://localhost:8080/"
        },
        "id": "rjHKdXgHUlUu",
        "outputId": "954fbe80-5ad4-4023-8695-79f25799acf4"
      },
      "outputs": [
        {
          "output_type": "stream",
          "name": "stdout",
          "text": [
            "Epoch 1/2\n",
            "469/469 [==============================] - 8s 12ms/step - loss: 0.8354 - accuracy: 0.7237 - val_loss: 0.5941 - val_accuracy: 0.7774\n",
            "Epoch 2/2\n",
            "469/469 [==============================] - 5s 10ms/step - loss: 0.5213 - accuracy: 0.8150 - val_loss: 0.5142 - val_accuracy: 0.8108\n",
            "313/313 [==============================] - 1s 4ms/step - loss: 0.5142 - accuracy: 0.8108\n"
          ]
        }
      ],
      "source": [
        "hist = model.fit(x=x_train,y=y_train, epochs=2, batch_size=128, validation_data=(x_test, y_test), verbose=1)\n",
        "test_score = model.evaluate(x_test, y_test)"
      ]
    },
    {
      "cell_type": "code",
      "source": [
        "# Увеличим количество ядер\n",
        "model_1 = Sequential()\n",
        "model_1.add(layers.Input(shape=(28,28,1)))\n",
        "model_1.add(layers.Conv2D(12, kernel_size=(5, 5),  padding='same', activation='tanh',))\n",
        "model_1.add(layers.MaxPooling2D(pool_size=(2, 2), strides=(1, 1), padding='valid'))\n",
        "model_1.add(layers.Conv2D(32, kernel_size=(5, 5), padding='same', activation='tanh',))\n",
        "model_1.add(layers.MaxPooling2D(pool_size=(2, 2), strides=(2, 2), padding='valid'))\n",
        "model_1.add(layers.Flatten())\n",
        "model_1.add(layers.Dense(168, activation='tanh'))\n",
        "model_1.add(layers.Dense(10, activation='softmax'))\n"
      ],
      "metadata": {
        "id": "i1osKmHqPd91"
      },
      "execution_count": 8,
      "outputs": []
    },
    {
      "cell_type": "code",
      "source": [
        "model_1.summary()\n"
      ],
      "metadata": {
        "colab": {
          "base_uri": "https://localhost:8080/"
        },
        "id": "hk1ko8eVSUJA",
        "outputId": "6933a263-0293-4192-ba66-512bd809be7f"
      },
      "execution_count": 9,
      "outputs": [
        {
          "output_type": "stream",
          "name": "stdout",
          "text": [
            "Model: \"sequential_1\"\n",
            "_________________________________________________________________\n",
            " Layer (type)                Output Shape              Param #   \n",
            "=================================================================\n",
            " conv2d_2 (Conv2D)           (None, 28, 28, 12)        312       \n",
            "                                                                 \n",
            " max_pooling2d_2 (MaxPooling  (None, 27, 27, 12)       0         \n",
            " 2D)                                                             \n",
            "                                                                 \n",
            " conv2d_3 (Conv2D)           (None, 27, 27, 32)        9632      \n",
            "                                                                 \n",
            " max_pooling2d_3 (MaxPooling  (None, 13, 13, 32)       0         \n",
            " 2D)                                                             \n",
            "                                                                 \n",
            " flatten_1 (Flatten)         (None, 5408)              0         \n",
            "                                                                 \n",
            " dense_2 (Dense)             (None, 168)               908712    \n",
            "                                                                 \n",
            " dense_3 (Dense)             (None, 10)                1690      \n",
            "                                                                 \n",
            "=================================================================\n",
            "Total params: 920,346\n",
            "Trainable params: 920,346\n",
            "Non-trainable params: 0\n",
            "_________________________________________________________________\n"
          ]
        }
      ]
    },
    {
      "cell_type": "code",
      "source": [
        "model_1.compile(loss=keras.losses.categorical_crossentropy, optimizer='SGD', metrics=[\"accuracy\"])\n",
        "hist = model_1.fit(x=x_train,y=y_train, epochs=2, batch_size=128, validation_data=(x_test, y_test), verbose=1)\n",
        "test_score = model_1.evaluate(x_test, y_test)"
      ],
      "metadata": {
        "colab": {
          "base_uri": "https://localhost:8080/"
        },
        "id": "88t0Jmc6SdGU",
        "outputId": "98568f89-721e-4fbc-c668-b3b894c712cc"
      },
      "execution_count": 10,
      "outputs": [
        {
          "output_type": "stream",
          "name": "stdout",
          "text": [
            "Epoch 1/2\n",
            "469/469 [==============================] - 7s 13ms/step - loss: 0.7866 - accuracy: 0.7369 - val_loss: 0.5629 - val_accuracy: 0.7891\n",
            "Epoch 2/2\n",
            "469/469 [==============================] - 5s 12ms/step - loss: 0.5040 - accuracy: 0.8184 - val_loss: 0.4837 - val_accuracy: 0.8241\n",
            "313/313 [==============================] - 1s 4ms/step - loss: 0.4837 - accuracy: 0.8241\n"
          ]
        }
      ]
    },
    {
      "cell_type": "code",
      "execution_count": 11,
      "metadata": {
        "id": "rbvHLdbGOSHU"
      },
      "outputs": [],
      "source": [
        "# добавим 2 слоя (conv+pool)\n",
        "model_2 = Sequential()\n",
        "model_2.add(layers.Input(shape=(28,28,1)))\n",
        "model_2.add(layers.Conv2D(6, kernel_size=(3, 3),  padding='same', activation='tanh',))\n",
        "model_2.add(layers.MaxPooling2D(pool_size=(2, 2), strides=(1, 1), padding='valid'))\n",
        "model_2.add(layers.Conv2D(16, kernel_size=(3, 3), padding='same', activation='tanh',))\n",
        "model_2.add(layers.MaxPooling2D(pool_size=(2, 2), strides=(2, 2), padding='valid'))\n",
        "model_2.add(layers.Conv2D(16, kernel_size=(3, 3), padding='same', activation='tanh',))\n",
        "model_2.add(layers.MaxPooling2D(pool_size=(2, 2), strides=(2, 2), padding='valid'))\n",
        "model_2.add(layers.Conv2D(16, kernel_size=(3, 3), padding='same', activation='tanh',))\n",
        "model_2.add(layers.MaxPooling2D(pool_size=(2, 2), strides=(2, 2), padding='valid'))\n",
        "\n",
        "\n",
        "model_2.add(layers.Flatten())\n",
        "model_2.add(layers.Dense(3000, activation='tanh'))\n",
        "model_2.add(layers.Dense(150, activation='tanh'))\n",
        "model_2.add(layers.Dense(10, activation='softmax'))\n",
        "model_2.compile(loss=keras.losses.categorical_crossentropy, optimizer='SGD', metrics=[\"accuracy\"])"
      ]
    },
    {
      "cell_type": "code",
      "execution_count": 12,
      "metadata": {
        "colab": {
          "base_uri": "https://localhost:8080/"
        },
        "id": "AhkvZcFaPRId",
        "outputId": "fa543576-cf63-4660-bb53-7e6e2b7686e0"
      },
      "outputs": [
        {
          "output_type": "stream",
          "name": "stdout",
          "text": [
            "Model: \"sequential_2\"\n",
            "_________________________________________________________________\n",
            " Layer (type)                Output Shape              Param #   \n",
            "=================================================================\n",
            " conv2d_4 (Conv2D)           (None, 28, 28, 6)         60        \n",
            "                                                                 \n",
            " max_pooling2d_4 (MaxPooling  (None, 27, 27, 6)        0         \n",
            " 2D)                                                             \n",
            "                                                                 \n",
            " conv2d_5 (Conv2D)           (None, 27, 27, 16)        880       \n",
            "                                                                 \n",
            " max_pooling2d_5 (MaxPooling  (None, 13, 13, 16)       0         \n",
            " 2D)                                                             \n",
            "                                                                 \n",
            " conv2d_6 (Conv2D)           (None, 13, 13, 16)        2320      \n",
            "                                                                 \n",
            " max_pooling2d_6 (MaxPooling  (None, 6, 6, 16)         0         \n",
            " 2D)                                                             \n",
            "                                                                 \n",
            " conv2d_7 (Conv2D)           (None, 6, 6, 16)          2320      \n",
            "                                                                 \n",
            " max_pooling2d_7 (MaxPooling  (None, 3, 3, 16)         0         \n",
            " 2D)                                                             \n",
            "                                                                 \n",
            " flatten_2 (Flatten)         (None, 144)               0         \n",
            "                                                                 \n",
            " dense_4 (Dense)             (None, 3000)              435000    \n",
            "                                                                 \n",
            " dense_5 (Dense)             (None, 150)               450150    \n",
            "                                                                 \n",
            " dense_6 (Dense)             (None, 10)                1510      \n",
            "                                                                 \n",
            "=================================================================\n",
            "Total params: 892,240\n",
            "Trainable params: 892,240\n",
            "Non-trainable params: 0\n",
            "_________________________________________________________________\n"
          ]
        }
      ],
      "source": [
        "model_2.summary()"
      ]
    },
    {
      "cell_type": "code",
      "execution_count": 13,
      "metadata": {
        "colab": {
          "base_uri": "https://localhost:8080/"
        },
        "id": "fe34QtoBOciB",
        "outputId": "38d060a1-22f7-46ae-9066-17386d99bb19"
      },
      "outputs": [
        {
          "output_type": "stream",
          "name": "stdout",
          "text": [
            "Epoch 1/2\n",
            "469/469 [==============================] - 6s 12ms/step - loss: 1.2763 - accuracy: 0.5991 - val_loss: 0.7892 - val_accuracy: 0.7175\n",
            "Epoch 2/2\n",
            "469/469 [==============================] - 5s 10ms/step - loss: 0.6903 - accuracy: 0.7524 - val_loss: 0.6572 - val_accuracy: 0.7579\n",
            "313/313 [==============================] - 1s 4ms/step - loss: 0.6572 - accuracy: 0.7579\n"
          ]
        }
      ],
      "source": [
        "hist = model_2.fit(x=x_train,y=y_train, epochs=2, batch_size=128, validation_data=(x_test, y_test), verbose=1)\n",
        "test_score = model_2.evaluate(x_test, y_test)"
      ]
    },
    {
      "cell_type": "markdown",
      "metadata": {
        "id": "SWclIhYVRG2C"
      },
      "source": [
        "Accuracy снизилась"
      ]
    },
    {
      "cell_type": "code",
      "execution_count": 14,
      "metadata": {
        "colab": {
          "base_uri": "https://localhost:8080/"
        },
        "id": "PCb_76W1RKqN",
        "outputId": "bf03da6e-f75a-4664-c462-a49cd936db1c"
      },
      "outputs": [
        {
          "output_type": "stream",
          "name": "stdout",
          "text": [
            "Epoch 1/2\n",
            "469/469 [==============================] - 3s 5ms/step - loss: 0.5661 - accuracy: 0.7991 - val_loss: 0.4571 - val_accuracy: 0.8357\n",
            "Epoch 2/2\n",
            "469/469 [==============================] - 2s 4ms/step - loss: 0.3846 - accuracy: 0.8606 - val_loss: 0.4001 - val_accuracy: 0.8530\n",
            "313/313 [==============================] - 1s 4ms/step - loss: 0.6572 - accuracy: 0.7579\n"
          ]
        }
      ],
      "source": [
        "final_model = Sequential([\n",
        "                        layers.Input(shape=(28,28,1)),\n",
        "                        layers.Flatten(),\n",
        "                        layers.Dense(50, activation='relu',),\n",
        "                        layers.Dense(50, activation='tanh'),\n",
        "                        layers.Dense(50, activation='tanh'),\n",
        "                        layers.Dense(50, activation='tanh'),\n",
        "\n",
        "                        layers.Dense(10, activation='softmax'),\n",
        "                        ])\n",
        "\n",
        "\n",
        "final_model.compile(\n",
        "    optimizer='Adam',\n",
        "    loss='categorical_crossentropy',\n",
        "    metrics=['accuracy'],\n",
        "    )\n",
        "hh = final_model.fit(x=x_train,y=y_train, epochs=2, batch_size=128, validation_data=(x_test, y_test), verbose=1)\n",
        "test_score = model_2.evaluate(x_test, y_test)"
      ]
    },
    {
      "cell_type": "code",
      "source": [
        "final_model.summary()"
      ],
      "metadata": {
        "colab": {
          "base_uri": "https://localhost:8080/"
        },
        "id": "y-w3tte_bv0j",
        "outputId": "df7df26a-d8c0-4212-ce79-14ffd754d277"
      },
      "execution_count": 15,
      "outputs": [
        {
          "output_type": "stream",
          "name": "stdout",
          "text": [
            "Model: \"sequential_3\"\n",
            "_________________________________________________________________\n",
            " Layer (type)                Output Shape              Param #   \n",
            "=================================================================\n",
            " flatten_3 (Flatten)         (None, 784)               0         \n",
            "                                                                 \n",
            " dense_7 (Dense)             (None, 50)                39250     \n",
            "                                                                 \n",
            " dense_8 (Dense)             (None, 50)                2550      \n",
            "                                                                 \n",
            " dense_9 (Dense)             (None, 50)                2550      \n",
            "                                                                 \n",
            " dense_10 (Dense)            (None, 50)                2550      \n",
            "                                                                 \n",
            " dense_11 (Dense)            (None, 10)                510       \n",
            "                                                                 \n",
            "=================================================================\n",
            "Total params: 47,410\n",
            "Trainable params: 47,410\n",
            "Non-trainable params: 0\n",
            "_________________________________________________________________\n"
          ]
        }
      ]
    },
    {
      "cell_type": "markdown",
      "source": [
        "val_accuracy на полносвязной модели получили немного лучше"
      ],
      "metadata": {
        "id": "A3srrHMzb5aV"
      }
    }
  ],
  "metadata": {
    "accelerator": "GPU",
    "colab": {
      "collapsed_sections": [],
      "name": "Lesson_4.ipynb",
      "provenance": [],
      "include_colab_link": true
    },
    "kernelspec": {
      "display_name": "Python 3",
      "name": "python3"
    },
    "language_info": {
      "codemirror_mode": {
        "name": "ipython",
        "version": 3
      },
      "file_extension": ".py",
      "mimetype": "text/x-python",
      "name": "python",
      "nbconvert_exporter": "python",
      "pygments_lexer": "ipython3",
      "version": "3.7.3"
    }
  },
  "nbformat": 4,
  "nbformat_minor": 0
}